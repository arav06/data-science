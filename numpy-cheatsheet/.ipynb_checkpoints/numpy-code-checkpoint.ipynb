{
 "cells": [
  {
   "cell_type": "code",
   "execution_count": 14,
   "id": "f46b57a6",
   "metadata": {},
   "outputs": [],
   "source": [
    "import numpy as np\n",
    "from IPython.core.interactiveshell import InteractiveShell\n",
    "InteractiveShell.ast_node_interactivity = 'all'"
   ]
  },
  {
   "cell_type": "code",
   "execution_count": 15,
   "id": "387ae8be",
   "metadata": {},
   "outputs": [],
   "source": [
    "distances = [10,56,78,10]\n",
    "speeds = [90,23,64,37]"
   ]
  },
  {
   "cell_type": "code",
   "execution_count": 39,
   "id": "1b43a605",
   "metadata": {},
   "outputs": [
    {
     "data": {
      "text/plain": [
       "array([10, 56, 78, 10])"
      ]
     },
     "execution_count": 39,
     "metadata": {},
     "output_type": "execute_result"
    },
    {
     "data": {
      "text/plain": [
       "array([90, 23, 64, 37])"
      ]
     },
     "execution_count": 39,
     "metadata": {},
     "output_type": "execute_result"
    }
   ],
   "source": [
    "d = np.array(distances)\n",
    "d\n",
    "s = np.array(speeds)\n",
    "s"
   ]
  },
  {
   "cell_type": "code",
   "execution_count": 44,
   "id": "787a66fa",
   "metadata": {},
   "outputs": [
    {
     "data": {
      "text/plain": [
       "array([0, 1, 2, 3, 4, 5, 6, 7, 8, 9])"
      ]
     },
     "execution_count": 44,
     "metadata": {},
     "output_type": "execute_result"
    },
    {
     "data": {
      "text/plain": [
       "array([ 5, 10, 15, 20, 25, 30, 35, 40, 45, 50])"
      ]
     },
     "execution_count": 44,
     "metadata": {},
     "output_type": "execute_result"
    },
    {
     "data": {
      "text/plain": [
       "array([100,  90,  80,  70,  60,  50,  40,  30])"
      ]
     },
     "execution_count": 44,
     "metadata": {},
     "output_type": "execute_result"
    },
    {
     "data": {
      "text/plain": [
       "array([ 10.,  25.,  40.,  55.,  70.,  85., 100.])"
      ]
     },
     "execution_count": 44,
     "metadata": {},
     "output_type": "execute_result"
    }
   ],
   "source": [
    "n = 10\n",
    "a = np.arange(n) # Creates an array which has elements from 0 to n-1\n",
    "a\n",
    "\n",
    "start = 5\n",
    "stop = 55\n",
    "inc = 5\n",
    "a2 = np.arange(start,stop,inc) # Creates an array which has elements from start to stop-1 \n",
    "# After each iteration, the element in incremented by dec until it is greater than stop\n",
    "\n",
    "a2\n",
    "\n",
    "start = 100\n",
    "stop = 20\n",
    "dec = -10\n",
    "a3 = np.arange(start,stop,dec) # Creates an array which has elements from start to stop-1 \n",
    "# After each iteration, the element in decremented by dec until it is lesser than stop\n",
    "a3\n",
    "\n",
    "start = 10\n",
    "stop = 100\n",
    "n = 7\n",
    "l = np.linspace(start,stop,n) # Returns n elements from start to stop, including them\n",
    "# Wheer the difference between an element and the next are same in all cases\n",
    "l"
   ]
  },
  {
   "cell_type": "markdown",
   "id": "1e77b4f1",
   "metadata": {},
   "source": [
    "### Data hierarchy\n",
    "\n",
    "- Object (Most cases is a string)\n",
    "- Float\n",
    "- Integer\n",
    "<br />\n",
    "\n",
    "**If a numpy array contains just one value of 1 object data type, the array's type is object**\n",
    "<br />\n",
    "**If a numpy array contains just one value of 1 float data type and no value of object data type, the array's type is float**\n",
    "<br />\n",
    "**If a numpy array contains just one value of 1 int data type and no value of object data type and no value of float data type, the array's type is int**"
   ]
  },
  {
   "cell_type": "code",
   "execution_count": 37,
   "id": "00e1af92",
   "metadata": {},
   "outputs": [
    {
     "data": {
      "text/plain": [
       "dtype('<U32')"
      ]
     },
     "execution_count": 37,
     "metadata": {},
     "output_type": "execute_result"
    },
    {
     "data": {
      "text/plain": [
       "dtype('float64')"
      ]
     },
     "execution_count": 37,
     "metadata": {},
     "output_type": "execute_result"
    },
    {
     "data": {
      "text/plain": [
       "dtype('int32')"
      ]
     },
     "execution_count": 37,
     "metadata": {},
     "output_type": "execute_result"
    }
   ],
   "source": [
    "obj = np.array([1,2,1.23,97.21,\"Hello!\"])\n",
    "obj.dtype # If the returned value contains \"U\", it is an object\n",
    "\n",
    "flt = np.array([1,2,1.23,97,10])\n",
    "flt.dtype \n",
    "\n",
    "it = np.array([1,2,13,97,10])\n",
    "it.dtype "
   ]
  },
  {
   "cell_type": "code",
   "execution_count": 38,
   "id": "20785df9",
   "metadata": {},
   "outputs": [
    {
     "data": {
      "text/plain": [
       "array([11, 22, 33, 44, 55])"
      ]
     },
     "execution_count": 38,
     "metadata": {},
     "output_type": "execute_result"
    },
    {
     "data": {
      "text/plain": [
       "array([ 9, 18, 27, 36, 45])"
      ]
     },
     "execution_count": 38,
     "metadata": {},
     "output_type": "execute_result"
    },
    {
     "data": {
      "text/plain": [
       "array([ 10,  40,  90, 160, 250])"
      ]
     },
     "execution_count": 38,
     "metadata": {},
     "output_type": "execute_result"
    },
    {
     "data": {
      "text/plain": [
       "array([10., 10., 10., 10., 10.])"
      ]
     },
     "execution_count": 38,
     "metadata": {},
     "output_type": "execute_result"
    },
    {
     "data": {
      "text/plain": [
       "15"
      ]
     },
     "execution_count": 38,
     "metadata": {},
     "output_type": "execute_result"
    }
   ],
   "source": [
    "n1 = np.array([1,2,3,4,5])\n",
    "n2 = np.array([10,20,30,40,50])\n",
    "\n",
    "s = n1+n2 # Add each element in n1 with the corresponding element in n2. The number of elements should be the same\n",
    "s\n",
    "\n",
    "d = n2-n1 # Subtract each element in n1 from the corresponding element in n2. The number of elements should be the same\n",
    "d\n",
    "\n",
    "p = n1*n2 # Multiple each element in n1 with the corresponding element in n2. The number of elements should be the same\n",
    "p\n",
    "\n",
    "q = n2/n1 # Divide each element in n2 by the corresponding element in n1. The number of elements should be the same\n",
    "q\n",
    "\n",
    "n1.sum() # Sum of all elements in the array"
   ]
  }
 ],
 "metadata": {
  "kernelspec": {
   "display_name": "Python 3",
   "language": "python",
   "name": "python3"
  },
  "language_info": {
   "codemirror_mode": {
    "name": "ipython",
    "version": 3
   },
   "file_extension": ".py",
   "mimetype": "text/x-python",
   "name": "python",
   "nbconvert_exporter": "python",
   "pygments_lexer": "ipython3",
   "version": "3.8.10"
  }
 },
 "nbformat": 4,
 "nbformat_minor": 5
}
