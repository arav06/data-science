{
 "cells": [
  {
   "cell_type": "code",
   "execution_count": 74,
   "id": "f46b57a6",
   "metadata": {},
   "outputs": [],
   "source": [
    "import numpy as np\n",
    "from IPython.core.interactiveshell import InteractiveShell\n",
    "InteractiveShell.ast_node_interactivity = 'all'"
   ]
  },
  {
   "cell_type": "code",
   "execution_count": 75,
   "id": "387ae8be",
   "metadata": {},
   "outputs": [],
   "source": [
    "a = [10,56,78,10]\n",
    "b = [90,23,64,37]"
   ]
  },
  {
   "cell_type": "code",
   "execution_count": 76,
   "id": "1b43a605",
   "metadata": {},
   "outputs": [
    {
     "data": {
      "text/plain": [
       "array([10, 56, 78, 10])"
      ]
     },
     "execution_count": 76,
     "metadata": {},
     "output_type": "execute_result"
    },
    {
     "data": {
      "text/plain": [
       "array([90, 23, 64, 37])"
      ]
     },
     "execution_count": 76,
     "metadata": {},
     "output_type": "execute_result"
    }
   ],
   "source": [
    "arr1 = np.array(a)\n",
    "arr1\n",
    "arr2 = np.array(b)\n",
    "arr2"
   ]
  },
  {
   "cell_type": "code",
   "execution_count": 77,
   "id": "f43b90b1",
   "metadata": {},
   "outputs": [
    {
     "data": {
      "text/plain": [
       "(4,)"
      ]
     },
     "execution_count": 77,
     "metadata": {},
     "output_type": "execute_result"
    },
    {
     "data": {
      "text/plain": [
       "4"
      ]
     },
     "execution_count": 77,
     "metadata": {},
     "output_type": "execute_result"
    },
    {
     "data": {
      "text/plain": [
       "dtype('int32')"
      ]
     },
     "execution_count": 77,
     "metadata": {},
     "output_type": "execute_result"
    }
   ],
   "source": [
    "arr1.shape # Rows and columns \n",
    "\n",
    "arr1.size # Number of elements\n",
    "\n",
    "arr1.dtype # Data type of elements"
   ]
  },
  {
   "cell_type": "code",
   "execution_count": 78,
   "id": "49e06253",
   "metadata": {},
   "outputs": [
    {
     "data": {
      "text/plain": [
       "array([1, 2, 3, 4, 5])"
      ]
     },
     "execution_count": 78,
     "metadata": {},
     "output_type": "execute_result"
    },
    {
     "data": {
      "text/plain": [
       "array([[  1,   2,   3],\n",
       "       [192,  27,  28],\n",
       "       [182, 276, 128]])"
      ]
     },
     "execution_count": 78,
     "metadata": {},
     "output_type": "execute_result"
    },
    {
     "data": {
      "text/plain": [
       "array([[[ 1,  2],\n",
       "        [ 3,  4],\n",
       "        [ 5,  6]],\n",
       "\n",
       "       [[ 7,  8],\n",
       "        [ 9, 10],\n",
       "        [11, 12]]])"
      ]
     },
     "execution_count": 78,
     "metadata": {},
     "output_type": "execute_result"
    }
   ],
   "source": [
    "d1 = np.array([1,2,3,4,5]) # 1D Array\n",
    "d1\n",
    "\n",
    "d2 = np.array([ # 2D Array\n",
    "    [1,2,3],\n",
    "    [192,27,28],\n",
    "    [182,276,128]\n",
    "])\n",
    "d2\n",
    "\n",
    "d3 = np.array([ # 3D Array\n",
    "    [\n",
    "        [1,2],\n",
    "        [3,4],\n",
    "        [5,6]\n",
    "    ],\n",
    "    \n",
    "    [\n",
    "        [7,8],\n",
    "        [9,10],\n",
    "        [11,12]\n",
    "    ]\n",
    "])\n",
    "d3"
   ]
  },
  {
   "cell_type": "markdown",
   "id": "a14f4331",
   "metadata": {},
   "source": [
    "### Note\n",
    "**In 2D arrays, axis 0 is the Y axis aka columns**\n",
    "<br />\n",
    "**axis 1 is the X axis aka rows**"
   ]
  },
  {
   "cell_type": "markdown",
   "id": "698e4b62",
   "metadata": {},
   "source": [
    "### Data hierarchy\n",
    "\n",
    "- Object (Most cases is a string)\n",
    "- Float\n",
    "- Integer\n",
    "<br />\n",
    "\n",
    "**If a numpy array contains just one value of 1 object data type, the array's type is object**\n",
    "<br />\n",
    "**If a numpy array contains just one value of 1 float data type and no value of object data type, the array's type is float**\n",
    "<br />\n",
    "**If a numpy array contains just one value of 1 int data type and no value of object data type and no value of float data type, the array's type is int**"
   ]
  },
  {
   "cell_type": "code",
   "execution_count": 79,
   "id": "cb6b2233",
   "metadata": {},
   "outputs": [
    {
     "data": {
      "text/plain": [
       "dtype('<U32')"
      ]
     },
     "execution_count": 79,
     "metadata": {},
     "output_type": "execute_result"
    },
    {
     "data": {
      "text/plain": [
       "dtype('float64')"
      ]
     },
     "execution_count": 79,
     "metadata": {},
     "output_type": "execute_result"
    },
    {
     "data": {
      "text/plain": [
       "dtype('int32')"
      ]
     },
     "execution_count": 79,
     "metadata": {},
     "output_type": "execute_result"
    }
   ],
   "source": [
    "obj = np.array([1,2,1.23,97.21,\"Hello!\"])\n",
    "obj.dtype # If the returned value contains \"U\", it is an object\n",
    "\n",
    "flt = np.array([1,2,1.23,97,10])\n",
    "flt.dtype \n",
    "\n",
    "it = np.array([1,2,13,97,10])\n",
    "it.dtype "
   ]
  },
  {
   "cell_type": "code",
   "execution_count": 80,
   "id": "787a66fa",
   "metadata": {},
   "outputs": [
    {
     "data": {
      "text/plain": [
       "array([0, 1, 2, 3, 4, 5, 6, 7, 8, 9])"
      ]
     },
     "execution_count": 80,
     "metadata": {},
     "output_type": "execute_result"
    },
    {
     "data": {
      "text/plain": [
       "array([1, 2, 3, 4, 5, 6, 7, 8, 9])"
      ]
     },
     "execution_count": 80,
     "metadata": {},
     "output_type": "execute_result"
    },
    {
     "data": {
      "text/plain": [
       "array([ 5, 10, 15, 20, 25, 30, 35, 40, 45, 50])"
      ]
     },
     "execution_count": 80,
     "metadata": {},
     "output_type": "execute_result"
    },
    {
     "data": {
      "text/plain": [
       "array([100,  90,  80,  70,  60,  50,  40,  30])"
      ]
     },
     "execution_count": 80,
     "metadata": {},
     "output_type": "execute_result"
    },
    {
     "data": {
      "text/plain": [
       "array([ 10.,  25.,  40.,  55.,  70.,  85., 100.])"
      ]
     },
     "execution_count": 80,
     "metadata": {},
     "output_type": "execute_result"
    }
   ],
   "source": [
    "n = 10\n",
    "a = np.arange(n) # Creates an array which has elements from 0 to n-1\n",
    "a\n",
    "\n",
    "start = 1\n",
    "stop = 10\n",
    "a = np.arange(start,stop) # Creates an array which has elements from start to stop-1\n",
    "a\n",
    "\n",
    "start = 5\n",
    "stop = 55\n",
    "inc = 5\n",
    "a2 = np.arange(start,stop,inc) # Creates an array which has elements from start to stop-1 \n",
    "# After each iteration, the element in incremented by dec until it is greater than stop\n",
    "\n",
    "a2\n",
    "\n",
    "start = 100\n",
    "stop = 20\n",
    "dec = -10\n",
    "a3 = np.arange(start,stop,dec) # Creates an array which has elements from start to stop-1 \n",
    "# After each iteration, the element in decremented by dec until it is lesser than stop\n",
    "a3\n",
    "\n",
    "start = 10\n",
    "stop = 100\n",
    "n = 7\n",
    "l = np.linspace(start,stop,n) # Returns n elements from start to stop, including them\n",
    "# Wheer the difference between an element and the next are same in all cases\n",
    "l"
   ]
  },
  {
   "cell_type": "code",
   "execution_count": 81,
   "id": "20785df9",
   "metadata": {},
   "outputs": [
    {
     "data": {
      "text/plain": [
       "array([11, 22, 33, 44, 55])"
      ]
     },
     "execution_count": 81,
     "metadata": {},
     "output_type": "execute_result"
    },
    {
     "data": {
      "text/plain": [
       "array([ 9, 18, 27, 36, 45])"
      ]
     },
     "execution_count": 81,
     "metadata": {},
     "output_type": "execute_result"
    },
    {
     "data": {
      "text/plain": [
       "array([ 10,  40,  90, 160, 250])"
      ]
     },
     "execution_count": 81,
     "metadata": {},
     "output_type": "execute_result"
    },
    {
     "data": {
      "text/plain": [
       "array([10., 10., 10., 10., 10.])"
      ]
     },
     "execution_count": 81,
     "metadata": {},
     "output_type": "execute_result"
    },
    {
     "data": {
      "text/plain": [
       "15"
      ]
     },
     "execution_count": 81,
     "metadata": {},
     "output_type": "execute_result"
    }
   ],
   "source": [
    "n1 = np.array([1,2,3,4,5])\n",
    "n2 = np.array([10,20,30,40,50])\n",
    "\n",
    "s = n1+n2 # Add each element in n1 with the corresponding element in n2. The number of elements should be the same\n",
    "s\n",
    "\n",
    "d = n2-n1 # Subtract each element in n1 from the corresponding element in n2. The number of elements should be the same\n",
    "d\n",
    "\n",
    "p = n1*n2 # Multiple each element in n1 with the corresponding element in n2. The number of elements should be the same\n",
    "p\n",
    "\n",
    "q = n2/n1 # Divide each element in n2 by the corresponding element in n1. The number of elements should be the same\n",
    "q\n",
    "\n",
    "n1.sum() # Sum of all elements in the array"
   ]
  },
  {
   "cell_type": "code",
   "execution_count": 82,
   "id": "a1b0805e",
   "metadata": {},
   "outputs": [
    {
     "data": {
      "text/plain": [
       "46"
      ]
     },
     "execution_count": 82,
     "metadata": {},
     "output_type": "execute_result"
    },
    {
     "data": {
      "text/plain": [
       "0"
      ]
     },
     "execution_count": 82,
     "metadata": {},
     "output_type": "execute_result"
    },
    {
     "data": {
      "text/plain": [
       "300"
      ]
     },
     "execution_count": 82,
     "metadata": {},
     "output_type": "execute_result"
    },
    {
     "data": {
      "text/plain": [
       "14"
      ]
     },
     "execution_count": 82,
     "metadata": {},
     "output_type": "execute_result"
    },
    {
     "data": {
      "text/plain": [
       "119.66666666666667"
      ]
     },
     "execution_count": 82,
     "metadata": {},
     "output_type": "execute_result"
    }
   ],
   "source": [
    "arr.min() # Min value in array\n",
    "arr.argmin() # Index of the min value in the array\n",
    "\n",
    "arr.max() # Max value in array\n",
    "arr.argmax() # Index of the max value in the array\n",
    "\n",
    "arr.mean() # Mean of values in array"
   ]
  },
  {
   "cell_type": "code",
   "execution_count": 83,
   "id": "5449a6de",
   "metadata": {},
   "outputs": [
    {
     "data": {
      "text/plain": [
       "array([375, 305, 159])"
      ]
     },
     "execution_count": 83,
     "metadata": {},
     "output_type": "execute_result"
    },
    {
     "data": {
      "text/plain": [
       "array([  6, 247, 586])"
      ]
     },
     "execution_count": 83,
     "metadata": {},
     "output_type": "execute_result"
    },
    {
     "data": {
      "text/plain": [
       "array([192, 276, 128])"
      ]
     },
     "execution_count": 83,
     "metadata": {},
     "output_type": "execute_result"
    },
    {
     "data": {
      "text/plain": [
       "array([  3, 192, 276])"
      ]
     },
     "execution_count": 83,
     "metadata": {},
     "output_type": "execute_result"
    },
    {
     "data": {
      "text/plain": [
       "array([1, 2, 3])"
      ]
     },
     "execution_count": 83,
     "metadata": {},
     "output_type": "execute_result"
    },
    {
     "data": {
      "text/plain": [
       "array([  1,  27, 128])"
      ]
     },
     "execution_count": 83,
     "metadata": {},
     "output_type": "execute_result"
    },
    {
     "data": {
      "text/plain": [
       "array([125.        , 101.66666667,  53.        ])"
      ]
     },
     "execution_count": 83,
     "metadata": {},
     "output_type": "execute_result"
    },
    {
     "data": {
      "text/plain": [
       "array([  2.        ,  82.33333333, 195.33333333])"
      ]
     },
     "execution_count": 83,
     "metadata": {},
     "output_type": "execute_result"
    }
   ],
   "source": [
    "d2.sum(axis = 0) # Sum of the elements in each column\n",
    "d2.sum(axis = 1) # Sum of the elements in each row\n",
    "\n",
    "d2.max(axis = 0) # Max element in each column\n",
    "d2.max(axis = 1) # Max element in each row\n",
    "\n",
    "d2.min(axis = 0) # Min element in each column\n",
    "d2.min(axis = 1) # Min element in each row\n",
    "\n",
    "d2.mean(axis = 0) # Mean of the elements in each column\n",
    "d2.mean(axis = 1) # Mean of the elements in each row"
   ]
  },
  {
   "cell_type": "code",
   "execution_count": 84,
   "id": "edc485eb",
   "metadata": {},
   "outputs": [
    {
     "data": {
      "text/plain": [
       "array([[ 39,  46],\n",
       "       [ 50,  66],\n",
       "       [ 67,  76],\n",
       "       [ 88,  90],\n",
       "       [108, 108],\n",
       "       [116, 127],\n",
       "       [129, 131],\n",
       "       [143, 144]])"
      ]
     },
     "execution_count": 84,
     "metadata": {},
     "output_type": "execute_result"
    },
    {
     "data": {
      "text/plain": [
       "16"
      ]
     },
     "execution_count": 84,
     "metadata": {},
     "output_type": "execute_result"
    },
    {
     "data": {
      "text/plain": [
       "(8, 2)"
      ]
     },
     "execution_count": 84,
     "metadata": {},
     "output_type": "execute_result"
    },
    {
     "data": {
      "text/plain": [
       "array([[[ 39,  46],\n",
       "        [ 50,  66],\n",
       "        [ 67,  76],\n",
       "        [ 88,  90]],\n",
       "\n",
       "       [[108, 108],\n",
       "        [116, 127],\n",
       "        [129, 131],\n",
       "        [143, 144]]])"
      ]
     },
     "execution_count": 84,
     "metadata": {},
     "output_type": "execute_result"
    },
    {
     "data": {
      "text/plain": [
       "16"
      ]
     },
     "execution_count": 84,
     "metadata": {},
     "output_type": "execute_result"
    },
    {
     "data": {
      "text/plain": [
       "(2, 4, 2)"
      ]
     },
     "execution_count": 84,
     "metadata": {},
     "output_type": "execute_result"
    },
    {
     "data": {
      "text/plain": [
       "array([ 39,  46,  50,  66,  67,  76,  88,  90, 108, 108, 116, 127, 129,\n",
       "       131, 143, 144])"
      ]
     },
     "execution_count": 84,
     "metadata": {},
     "output_type": "execute_result"
    }
   ],
   "source": [
    "a = [39,46,50,66,67,76,88,90,108,108,116,127,129,131,143,144]\n",
    "arr = np.array(a)\n",
    "\n",
    "rws = 8\n",
    "col = 2\n",
    "\n",
    "d2 = arr.reshape(rws,col) # rws is the number of rows and col is the number of columns. This will make the array a 2D one \n",
    "d2\n",
    "d2.size\n",
    "d2.shape\n",
    "\n",
    "n = 2\n",
    "rws = 4\n",
    "el = 2\n",
    "\n",
    "d3 = arr.reshape(n,rws,el) # Making a 3d array\n",
    "# n refers to the number of arrays which will be created\n",
    "# rws is the number of rows per array. They are mini arrays within the array\n",
    "# el is the number of elements per row\n",
    "d3\n",
    "d3.size\n",
    "d3.shape\n",
    "\n",
    "d3.ravel() # Convert 2D/3D array to a 1D array"
   ]
  },
  {
   "cell_type": "code",
   "execution_count": 85,
   "id": "6f9cd351",
   "metadata": {},
   "outputs": [
    {
     "data": {
      "text/plain": [
       "array([ True,  True,  True,  True,  True,  True,  True,  True,  True,\n",
       "        True,  True,  True,  True,  True,  True,  True])"
      ]
     },
     "execution_count": 85,
     "metadata": {},
     "output_type": "execute_result"
    },
    {
     "data": {
      "text/plain": [
       "array([ 39,  46,  50,  66,  67,  76,  88,  90, 108, 108, 116, 127, 129,\n",
       "       131, 143, 144])"
      ]
     },
     "execution_count": 85,
     "metadata": {},
     "output_type": "execute_result"
    },
    {
     "data": {
      "text/plain": [
       "array([False,  True,  True,  True, False,  True,  True,  True,  True,\n",
       "        True,  True, False, False, False, False,  True])"
      ]
     },
     "execution_count": 85,
     "metadata": {},
     "output_type": "execute_result"
    },
    {
     "data": {
      "text/plain": [
       "array([ 46,  50,  66,  76,  88,  90, 108, 108, 116, 144])"
      ]
     },
     "execution_count": 85,
     "metadata": {},
     "output_type": "execute_result"
    }
   ],
   "source": [
    "grt = (arr > 20)\n",
    "grt\n",
    "\n",
    "arr[grt]\n",
    "\n",
    "even = (arr % 2 == 0)\n",
    "even\n",
    "\n",
    "arr[even]"
   ]
  },
  {
   "cell_type": "code",
   "execution_count": 86,
   "id": "b223edfc",
   "metadata": {},
   "outputs": [
    {
     "data": {
      "text/plain": [
       "array([0., 0., 0., 0., 0., 0., 0., 0., 0., 0., 0., 0., 0., 0., 0., 0., 0.,\n",
       "       0., 0., 0.])"
      ]
     },
     "execution_count": 86,
     "metadata": {},
     "output_type": "execute_result"
    },
    {
     "data": {
      "text/plain": [
       "array([10., 10., 10., 10., 10., 10., 10., 10., 10., 10., 10., 10., 10.,\n",
       "       10., 10., 10., 10., 10., 10., 10.])"
      ]
     },
     "execution_count": 86,
     "metadata": {},
     "output_type": "execute_result"
    },
    {
     "data": {
      "text/plain": [
       "array([[0., 0., 0., 0., 0., 0., 0., 0., 0., 0.],\n",
       "       [0., 0., 0., 0., 0., 0., 0., 0., 0., 0.]])"
      ]
     },
     "execution_count": 86,
     "metadata": {},
     "output_type": "execute_result"
    }
   ],
   "source": [
    "n = 20\n",
    "np.zeros(n) # Create a 1D array which has n zeros\n",
    "\n",
    "np.zeros(n)+10 # Create a 1D array which has n 10s\n",
    "\n",
    "r = 2\n",
    "c = 10\n",
    "np.zeros((r,c)) # Create a 2D array of ones which has r rows and c columns"
   ]
  },
  {
   "cell_type": "code",
   "execution_count": 87,
   "id": "f89fbbd9",
   "metadata": {},
   "outputs": [
    {
     "data": {
      "text/plain": [
       "array([1., 1., 1., 1., 1., 1., 1., 1., 1., 1., 1., 1., 1., 1., 1., 1., 1.,\n",
       "       1., 1., 1.])"
      ]
     },
     "execution_count": 87,
     "metadata": {},
     "output_type": "execute_result"
    },
    {
     "data": {
      "text/plain": [
       "array([11., 11., 11., 11., 11., 11., 11., 11., 11., 11., 11., 11., 11.,\n",
       "       11., 11., 11., 11., 11., 11., 11.])"
      ]
     },
     "execution_count": 87,
     "metadata": {},
     "output_type": "execute_result"
    },
    {
     "data": {
      "text/plain": [
       "array([[1., 1., 1., 1., 1., 1., 1., 1., 1., 1.],\n",
       "       [1., 1., 1., 1., 1., 1., 1., 1., 1., 1.]])"
      ]
     },
     "execution_count": 87,
     "metadata": {},
     "output_type": "execute_result"
    }
   ],
   "source": [
    "n = 20\n",
    "np.ones(n) # Create a 1D array which has n ones\n",
    "\n",
    "np.ones(n)+10 # Create a 1D array which has n 11s\n",
    "\n",
    "r = 2\n",
    "c = 10\n",
    "np.ones((r,c)) # Create a 2D array of ones which has r rows and c columns"
   ]
  },
  {
   "cell_type": "code",
   "execution_count": 88,
   "id": "5ba3c5d6",
   "metadata": {},
   "outputs": [
    {
     "data": {
      "text/plain": [
       "array([1., 1., 1., 1., 1., 1., 1., 1., 1., 1., 1., 1., 1., 1., 1., 1., 1.,\n",
       "       1., 1., 1.])"
      ]
     },
     "execution_count": 88,
     "metadata": {},
     "output_type": "execute_result"
    },
    {
     "data": {
      "text/plain": [
       "array([[1., 1., 1., 1., 1., 1., 1., 1., 1., 1.],\n",
       "       [1., 1., 1., 1., 1., 1., 1., 1., 1., 1.]])"
      ]
     },
     "execution_count": 88,
     "metadata": {},
     "output_type": "execute_result"
    }
   ],
   "source": [
    "n = 20\n",
    "np.empty(n) # Create a 1D array which has n random elements\n",
    "\n",
    "r = 2\n",
    "c = 10\n",
    "np.empty((r,c)) # Create a 2D array of random elements which has r rows and c columns"
   ]
  },
  {
   "cell_type": "code",
   "execution_count": 89,
   "id": "fa0d4f1b",
   "metadata": {},
   "outputs": [
    {
     "data": {
      "text/plain": [
       "array([[1., 0., 0., 0., 0.],\n",
       "       [0., 1., 0., 0., 0.],\n",
       "       [0., 0., 1., 0., 0.],\n",
       "       [0., 0., 0., 1., 0.],\n",
       "       [0., 0., 0., 0., 1.]])"
      ]
     },
     "execution_count": 89,
     "metadata": {},
     "output_type": "execute_result"
    }
   ],
   "source": [
    "n = 5\n",
    "i = np.eye(5) # Creates an identity matrix which has 5 elements per row \n",
    "# It is a square matrix (rows=columns) in which there is a diagonal of n 1s and the other elements are 0s\n",
    "i"
   ]
  },
  {
   "cell_type": "code",
   "execution_count": 90,
   "id": "ea5bcd7f",
   "metadata": {},
   "outputs": [
    {
     "data": {
      "text/plain": [
       "array([1., 1., 1., 1., 1.])"
      ]
     },
     "execution_count": 90,
     "metadata": {},
     "output_type": "execute_result"
    }
   ],
   "source": [
    "np.diag(i) # Gets the primary diagonal of the matrix"
   ]
  },
  {
   "cell_type": "code",
   "execution_count": 91,
   "id": "84b2f01f",
   "metadata": {},
   "outputs": [
    {
     "data": {
      "text/plain": [
       "39"
      ]
     },
     "execution_count": 91,
     "metadata": {},
     "output_type": "execute_result"
    },
    {
     "data": {
      "text/plain": [
       "50"
      ]
     },
     "execution_count": 91,
     "metadata": {},
     "output_type": "execute_result"
    },
    {
     "data": {
      "text/plain": [
       "144"
      ]
     },
     "execution_count": 91,
     "metadata": {},
     "output_type": "execute_result"
    },
    {
     "data": {
      "text/plain": [
       "array([100,  46, 200,  66,  67,  76,  88,  90, 108, 108, 116, 127, 129,\n",
       "       131, 143, 300])"
      ]
     },
     "execution_count": 91,
     "metadata": {},
     "output_type": "execute_result"
    },
    {
     "data": {
      "text/plain": [
       "array([[100,  46],\n",
       "       [200,  66],\n",
       "       [ 67,  76],\n",
       "       [ 88,  90],\n",
       "       [108, 108],\n",
       "       [116, 127],\n",
       "       [129, 131],\n",
       "       [143, 300]])"
      ]
     },
     "execution_count": 91,
     "metadata": {},
     "output_type": "execute_result"
    },
    {
     "data": {
      "text/plain": [
       "array([[[100,  46],\n",
       "        [200,  66],\n",
       "        [ 67,  76],\n",
       "        [ 88,  90]],\n",
       "\n",
       "       [[108, 108],\n",
       "        [116, 127],\n",
       "        [129, 131],\n",
       "        [143, 300]]])"
      ]
     },
     "execution_count": 91,
     "metadata": {},
     "output_type": "execute_result"
    },
    {
     "data": {
      "text/plain": [
       "array([ 46, 200,  66,  67,  76,  88,  90, 108, 108, 116, 127, 129, 131,\n",
       "       143, 300])"
      ]
     },
     "execution_count": 91,
     "metadata": {},
     "output_type": "execute_result"
    }
   ],
   "source": [
    "arr[0] # Selecting element from 1D array\n",
    "d2[1][0] # Selecting element from 2D array\n",
    "d3[1][3][1] # Selecting element from 3D array\n",
    "\n",
    "arr[0] = 100 # Updating element in 1D array\n",
    "d2[1][0] = 200 # Updating element in 2D array\n",
    "d3[1][3][1] = 300 # Updating element in 3D array\n",
    "\n",
    "arr\n",
    "d2\n",
    "d3\n",
    "\n",
    "arr = np.delete(arr,0) # Deleting element from 1D array\n",
    "\n",
    "arr"
   ]
  },
  {
   "cell_type": "code",
   "execution_count": 92,
   "id": "c160e1ad",
   "metadata": {},
   "outputs": [
    {
     "data": {
      "text/plain": [
       "array([ 0,  2,  3,  4,  5,  6,  7,  8,  9, 10, 11, 12, 13,  1, 14],\n",
       "      dtype=int64)"
      ]
     },
     "execution_count": 92,
     "metadata": {},
     "output_type": "execute_result"
    },
    {
     "data": {
      "text/plain": [
       "array([ 46,  66,  67,  76,  88,  90, 108, 108, 116, 127, 129, 131, 143,\n",
       "       200, 300])"
      ]
     },
     "execution_count": 92,
     "metadata": {},
     "output_type": "execute_result"
    }
   ],
   "source": [
    "arr.argsort() # Indexes of the elements of the current array that would make the array a sorted one \n",
    "\n",
    "arr.sort() # Sort the array\n",
    "arr"
   ]
  },
  {
   "cell_type": "code",
   "execution_count": 93,
   "id": "f388ed23",
   "metadata": {},
   "outputs": [
    {
     "data": {
      "text/plain": [
       "array([[100, 200,  67,  88, 108, 116, 129, 143],\n",
       "       [ 46,  66,  76,  90, 108, 127, 131, 300]])"
      ]
     },
     "execution_count": 93,
     "metadata": {},
     "output_type": "execute_result"
    }
   ],
   "source": [
    "d2.transpose() # The rows become columns and columns become rows. Only works in 2D arrays"
   ]
  },
  {
   "cell_type": "code",
   "execution_count": 94,
   "id": "b812dbfd",
   "metadata": {},
   "outputs": [
    {
     "name": "stdout",
     "output_type": "stream",
     "text": [
      "46\n",
      "66\n",
      "67\n",
      "76\n",
      "88\n",
      "90\n",
      "108\n",
      "108\n",
      "116\n",
      "127\n",
      "129\n",
      "131\n",
      "143\n",
      "200\n",
      "300\n"
     ]
    }
   ],
   "source": [
    "for i in arr.flat:\n",
    "    print(i) # Print all elements of the array"
   ]
  },
  {
   "cell_type": "code",
   "execution_count": 95,
   "id": "7f8bef5f",
   "metadata": {},
   "outputs": [
    {
     "data": {
      "text/plain": [
       "1"
      ]
     },
     "execution_count": 95,
     "metadata": {},
     "output_type": "execute_result"
    },
    {
     "data": {
      "text/plain": [
       "3"
      ]
     },
     "execution_count": 95,
     "metadata": {},
     "output_type": "execute_result"
    }
   ],
   "source": [
    "arr.ndim # Number of dimensions\n",
    "d3.ndim"
   ]
  },
  {
   "cell_type": "code",
   "execution_count": 96,
   "id": "e3fb3935",
   "metadata": {},
   "outputs": [
    {
     "data": {
      "text/plain": [
       "60"
      ]
     },
     "execution_count": 96,
     "metadata": {},
     "output_type": "execute_result"
    }
   ],
   "source": [
    "arr.nbytes # Number of bytes used by the elements in memory"
   ]
  },
  {
   "cell_type": "code",
   "execution_count": 97,
   "id": "8122f14f",
   "metadata": {},
   "outputs": [
    {
     "data": {
      "text/plain": [
       "(array([ 6,  7,  8,  9, 10, 11, 12, 13, 14], dtype=int64),)"
      ]
     },
     "execution_count": 97,
     "metadata": {},
     "output_type": "execute_result"
    },
    {
     "data": {
      "text/plain": [
       "(array([0], dtype=int64),)"
      ]
     },
     "execution_count": 97,
     "metadata": {},
     "output_type": "execute_result"
    }
   ],
   "source": [
    "np.where(arr > 100) # Indexes of the elements whose value is greater than 100\n",
    "\n",
    "np.where(arr == 46) # Indexes of the elements whose value is greater than 46\n",
    "\n",
    "# You can perform more conditions and even use logical operators (& and |)"
   ]
  },
  {
   "cell_type": "code",
   "execution_count": 98,
   "id": "497c3d04",
   "metadata": {},
   "outputs": [
    {
     "data": {
      "text/plain": [
       "15"
      ]
     },
     "execution_count": 98,
     "metadata": {},
     "output_type": "execute_result"
    }
   ],
   "source": [
    "np.count_nonzero(arr) # Number of elements which are not 0"
   ]
  }
 ],
 "metadata": {
  "kernelspec": {
   "display_name": "Python 3",
   "language": "python",
   "name": "python3"
  },
  "language_info": {
   "codemirror_mode": {
    "name": "ipython",
    "version": 3
   },
   "file_extension": ".py",
   "mimetype": "text/x-python",
   "name": "python",
   "nbconvert_exporter": "python",
   "pygments_lexer": "ipython3",
   "version": "3.8.10"
  }
 },
 "nbformat": 4,
 "nbformat_minor": 5
}
